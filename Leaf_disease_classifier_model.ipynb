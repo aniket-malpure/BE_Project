{
 "cells": [
  {
   "cell_type": "markdown",
   "metadata": {
    "id": "ZRR8V4fEZ9HD"
   },
   "source": [
    "# Datasets"
   ]
  },
  {
   "cell_type": "markdown",
   "metadata": {
    "id": "YTWADOGvaAhy"
   },
   "source": [
    "[https://data.mendeley.com/datasets/tywbtsjrjv/1](https://data.mendeley.com/datasets/tywbtsjrjv/1)"
   ]
  },
  {
   "cell_type": "markdown",
   "metadata": {
    "id": "NtsX8HgZasim"
   },
   "source": [
    "[https://data.mendeley.com/datasets/hb74ynkjcn/1](https://data.mendeley.com/datasets/hb74ynkjcn/1)"
   ]
  },
  {
   "cell_type": "markdown",
   "metadata": {
    "id": "7RRq46zbbk96"
   },
   "source": [
    "[https://www.kaggle.com/datasets/janmejaybhoi/cotton-disease-dataset](https://www.kaggle.com/datasets/janmejaybhoi/cotton-disease-dataset)"
   ]
  },
  {
   "cell_type": "markdown",
   "metadata": {
    "id": "0U6QMLieDeRN"
   },
   "source": [
    "# Installing dependencies and Setup"
   ]
  },
  {
   "cell_type": "code",
   "execution_count": 1,
   "metadata": {
    "id": "dF8yUu8DCCbz"
   },
   "outputs": [],
   "source": [
    "import tensorflow as tf\n",
    "import os"
   ]
  },
  {
   "cell_type": "code",
   "execution_count": 2,
   "metadata": {
    "colab": {
     "base_uri": "https://localhost:8080/"
    },
    "id": "Ttw44MFKDkAG",
    "outputId": "c0c716c0-9acc-4dcb-99af-f7cad22f9d70"
   },
   "outputs": [
    {
     "data": {
      "text/plain": [
       "[PhysicalDevice(name='/physical_device:GPU:0', device_type='GPU')]"
      ]
     },
     "execution_count": 2,
     "metadata": {},
     "output_type": "execute_result"
    }
   ],
   "source": [
    "tf.config.list_physical_devices('GPU')"
   ]
  },
  {
   "cell_type": "code",
   "execution_count": 3,
   "metadata": {
    "colab": {
     "base_uri": "https://localhost:8080/"
    },
    "id": "IZhEPQxfD6Ai",
    "outputId": "0a8334bf-cf51-475e-976b-2c344d911a42"
   },
   "outputs": [
    {
     "data": {
      "text/plain": [
       "[PhysicalDevice(name='/physical_device:CPU:0', device_type='CPU')]"
      ]
     },
     "execution_count": 3,
     "metadata": {},
     "output_type": "execute_result"
    }
   ],
   "source": [
    "tf.config.list_physical_devices('CPU')"
   ]
  },
  {
   "cell_type": "code",
   "execution_count": 4,
   "metadata": {
    "id": "IsQJxFl8D7L4"
   },
   "outputs": [],
   "source": [
    "# Avoid OOM (Out of Memory) errors by setting GPU Memory Consumption Growth\n",
    "gpus = tf.config.experimental.list_physical_devices('GPU')\n",
    "for gpu in gpus: \n",
    "    tf.config.experimental.set_memory_growth(gpu, True)"
   ]
  },
  {
   "cell_type": "markdown",
   "metadata": {
    "id": "87dnerkyEEtU"
   },
   "source": [
    "# Remove Dodgy Images"
   ]
  },
  {
   "cell_type": "code",
   "execution_count": 5,
   "metadata": {
    "id": "7ph4qPjEEBhp"
   },
   "outputs": [],
   "source": [
    "import cv2\n",
    "import imghdr # To check image extensions"
   ]
  },
  {
   "cell_type": "code",
   "execution_count": null,
   "metadata": {
    "id": "p1R2kVoKEIOX"
   },
   "outputs": [],
   "source": [
    "image_exts = ['jpg', 'jpeg', 'png']"
   ]
  },
  {
   "cell_type": "code",
   "execution_count": null,
   "metadata": {
    "id": "5PKRL1cJEqX9"
   },
   "outputs": [],
   "source": [
    "for image_class in os.listdir(data_dir): \n",
    "    for image in os.listdir(os.path.join(data_dir, image_class)):\n",
    "        image_path = os.path.join(data_dir, image_class, image)\n",
    "        try: \n",
    "            img = cv2.imread(image_path)   # Reads as an array\n",
    "            tip = imghdr.what(image_path)\n",
    "            if tip not in image_exts: \n",
    "                print('Image not in ext list {}'.format(image_path))\n",
    "                os.remove(image_path)\n",
    "        except Exception as e: \n",
    "            print('Issue with image {}'.format(image_path))"
   ]
  },
  {
   "cell_type": "markdown",
   "metadata": {
    "id": "fJWQqzRoOCDx"
   },
   "source": [
    "# Load the Data"
   ]
  },
  {
   "cell_type": "code",
   "execution_count": 5,
   "metadata": {
    "id": "jbSzcDI1MYVd"
   },
   "outputs": [],
   "source": [
    "data_dir = 'Dataset/Data/'"
   ]
  },
  {
   "cell_type": "code",
   "execution_count": 6,
   "metadata": {
    "id": "9xAanYeHSCva"
   },
   "outputs": [],
   "source": [
    "import numpy as np\n",
    "from matplotlib import pyplot as plt"
   ]
  },
  {
   "cell_type": "code",
   "execution_count": 7,
   "metadata": {
    "colab": {
     "base_uri": "https://localhost:8080/"
    },
    "id": "G8GnLSa0SGkM",
    "outputId": "61fcaf20-7426-45f0-8c3f-ab3e8414ccdc"
   },
   "outputs": [
    {
     "name": "stdout",
     "output_type": "stream",
     "text": [
      "Found 52945 files belonging to 56 classes.\n"
     ]
    }
   ],
   "source": [
    "data = tf.keras.utils.image_dataset_from_directory(data_dir)"
   ]
  },
  {
   "cell_type": "code",
   "execution_count": 8,
   "metadata": {
    "id": "G1d1K2vnSJwP"
   },
   "outputs": [],
   "source": [
    "data_iterator = data.as_numpy_iterator()"
   ]
  },
  {
   "cell_type": "code",
   "execution_count": 9,
   "metadata": {
    "id": "TwB_9JJ7SPj6"
   },
   "outputs": [],
   "source": [
    "batch = data_iterator.next()"
   ]
  },
  {
   "cell_type": "code",
   "execution_count": 10,
   "metadata": {
    "id": "VSEa8dsNZW0Q"
   },
   "outputs": [
    {
     "data": {
      "text/plain": [
       "array([[[[105.      ,  84.      , 103.      ],\n",
       "         [122.      , 101.      , 120.      ],\n",
       "         [115.      ,  94.      , 113.      ],\n",
       "         ...,\n",
       "         [133.      , 118.      , 141.      ],\n",
       "         [127.      , 112.      , 135.      ],\n",
       "         [132.      , 117.      , 140.      ]],\n",
       "\n",
       "        [[114.      ,  93.      , 112.      ],\n",
       "         [129.      , 108.      , 127.      ],\n",
       "         [128.      , 107.      , 126.      ],\n",
       "         ...,\n",
       "         [146.      , 131.      , 154.      ],\n",
       "         [141.      , 126.      , 149.      ],\n",
       "         [136.      , 121.      , 144.      ]],\n",
       "\n",
       "        [[122.      , 101.      , 120.      ],\n",
       "         [126.      , 105.      , 124.      ],\n",
       "         [126.      , 105.      , 124.      ],\n",
       "         ...,\n",
       "         [145.      , 130.      , 153.      ],\n",
       "         [139.      , 124.      , 147.      ],\n",
       "         [127.      , 112.      , 135.      ]],\n",
       "\n",
       "        ...,\n",
       "\n",
       "        [[123.      , 110.      , 128.      ],\n",
       "         [134.      , 121.      , 139.      ],\n",
       "         [139.      , 124.      , 143.      ],\n",
       "         ...,\n",
       "         [174.      , 160.      , 183.      ],\n",
       "         [121.      , 107.      , 130.      ],\n",
       "         [122.      , 108.      , 131.      ]],\n",
       "\n",
       "        [[141.      , 130.      , 147.      ],\n",
       "         [174.      , 161.      , 179.      ],\n",
       "         [135.      , 120.      , 139.      ],\n",
       "         ...,\n",
       "         [ 87.      ,  73.      ,  96.      ],\n",
       "         [160.      , 146.      , 169.      ],\n",
       "         [122.      , 108.      , 131.      ]],\n",
       "\n",
       "        [[129.      , 118.      , 135.      ],\n",
       "         [126.      , 115.      , 132.      ],\n",
       "         [178.      , 163.      , 182.      ],\n",
       "         ...,\n",
       "         [157.      , 143.      , 166.      ],\n",
       "         [202.      , 188.      , 211.      ],\n",
       "         [167.      , 153.      , 176.      ]]],\n",
       "\n",
       "\n",
       "       [[[162.      , 150.      , 162.      ],\n",
       "         [166.      , 154.      , 166.      ],\n",
       "         [164.      , 152.      , 164.      ],\n",
       "         ...,\n",
       "         [149.      , 138.      , 152.      ],\n",
       "         [147.      , 136.      , 150.      ],\n",
       "         [150.      , 139.      , 153.      ]],\n",
       "\n",
       "        [[155.      , 143.      , 155.      ],\n",
       "         [162.      , 150.      , 162.      ],\n",
       "         [165.      , 153.      , 165.      ],\n",
       "         ...,\n",
       "         [145.      , 134.      , 148.      ],\n",
       "         [143.      , 132.      , 146.      ],\n",
       "         [147.      , 136.      , 150.      ]],\n",
       "\n",
       "        [[153.      , 141.      , 153.      ],\n",
       "         [161.      , 149.      , 161.      ],\n",
       "         [168.      , 156.      , 168.      ],\n",
       "         ...,\n",
       "         [156.      , 145.      , 159.      ],\n",
       "         [157.      , 146.      , 160.      ],\n",
       "         [162.      , 151.      , 165.      ]],\n",
       "\n",
       "        ...,\n",
       "\n",
       "        [[132.      , 120.      , 130.      ],\n",
       "         [137.      , 125.      , 135.      ],\n",
       "         [112.      , 100.      , 110.      ],\n",
       "         ...,\n",
       "         [127.      , 115.      , 125.      ],\n",
       "         [133.      , 121.      , 131.      ],\n",
       "         [127.      , 115.      , 125.      ]],\n",
       "\n",
       "        [[145.      , 133.      , 143.      ],\n",
       "         [155.      , 143.      , 153.      ],\n",
       "         [131.      , 119.      , 129.      ],\n",
       "         ...,\n",
       "         [128.      , 116.      , 126.      ],\n",
       "         [143.      , 131.      , 141.      ],\n",
       "         [132.      , 120.      , 130.      ]],\n",
       "\n",
       "        [[133.      , 121.      , 131.      ],\n",
       "         [135.      , 123.      , 133.      ],\n",
       "         [131.      , 119.      , 129.      ],\n",
       "         ...,\n",
       "         [128.      , 116.      , 126.      ],\n",
       "         [117.      , 105.      , 115.      ],\n",
       "         [170.      , 158.      , 168.      ]]],\n",
       "\n",
       "\n",
       "       [[[168.      , 166.      , 180.      ],\n",
       "         [164.      , 162.      , 176.      ],\n",
       "         [161.      , 159.      , 173.      ],\n",
       "         ...,\n",
       "         [201.      , 198.      , 207.      ],\n",
       "         [208.      , 205.      , 214.      ],\n",
       "         [215.      , 212.      , 221.      ]],\n",
       "\n",
       "        [[164.      , 162.      , 176.      ],\n",
       "         [165.      , 163.      , 177.      ],\n",
       "         [167.      , 165.      , 179.      ],\n",
       "         ...,\n",
       "         [201.      , 198.      , 207.      ],\n",
       "         [205.      , 202.      , 211.      ],\n",
       "         [209.      , 206.      , 215.      ]],\n",
       "\n",
       "        [[163.      , 161.      , 175.      ],\n",
       "         [166.      , 164.      , 178.      ],\n",
       "         [170.      , 168.      , 182.      ],\n",
       "         ...,\n",
       "         [200.      , 197.      , 206.      ],\n",
       "         [201.      , 198.      , 207.      ],\n",
       "         [202.      , 199.      , 208.      ]],\n",
       "\n",
       "        ...,\n",
       "\n",
       "        [[129.      , 123.      , 135.      ],\n",
       "         [111.      , 105.      , 117.      ],\n",
       "         [ 97.      ,  91.      , 103.      ],\n",
       "         ...,\n",
       "         [116.      , 108.      , 121.      ],\n",
       "         [116.      , 108.      , 121.      ],\n",
       "         [119.      , 111.      , 124.      ]],\n",
       "\n",
       "        [[107.      , 101.      , 113.      ],\n",
       "         [116.      , 110.      , 122.      ],\n",
       "         [124.      , 118.      , 130.      ],\n",
       "         ...,\n",
       "         [104.      ,  96.      , 109.      ],\n",
       "         [105.      ,  97.      , 110.      ],\n",
       "         [115.      , 107.      , 120.      ]],\n",
       "\n",
       "        [[101.      ,  95.      , 107.      ],\n",
       "         [108.      , 102.      , 114.      ],\n",
       "         [117.      , 111.      , 123.      ],\n",
       "         ...,\n",
       "         [116.      , 108.      , 121.      ],\n",
       "         [120.      , 112.      , 125.      ],\n",
       "         [137.      , 129.      , 142.      ]]],\n",
       "\n",
       "\n",
       "       ...,\n",
       "\n",
       "\n",
       "       [[[ 53.      ,  57.      ,  82.      ],\n",
       "         [ 55.      ,  59.      ,  84.      ],\n",
       "         [ 56.      ,  60.      ,  85.      ],\n",
       "         ...,\n",
       "         [139.      , 139.      , 163.      ],\n",
       "         [143.      , 143.      , 167.      ],\n",
       "         [148.      , 148.      , 172.      ]],\n",
       "\n",
       "        [[ 46.      ,  50.      ,  75.      ],\n",
       "         [ 48.      ,  52.      ,  77.      ],\n",
       "         [ 50.      ,  54.      ,  79.      ],\n",
       "         ...,\n",
       "         [142.      , 142.      , 166.      ],\n",
       "         [145.      , 145.      , 169.      ],\n",
       "         [148.      , 148.      , 172.      ]],\n",
       "\n",
       "        [[ 42.      ,  46.      ,  71.      ],\n",
       "         [ 44.      ,  48.      ,  73.      ],\n",
       "         [ 47.      ,  51.      ,  76.      ],\n",
       "         ...,\n",
       "         [146.      , 146.      , 170.      ],\n",
       "         [146.      , 146.      , 170.      ],\n",
       "         [146.      , 146.      , 170.      ]],\n",
       "\n",
       "        ...,\n",
       "\n",
       "        [[ 78.      ,  79.      , 100.      ],\n",
       "         [ 82.      ,  83.      , 104.      ],\n",
       "         [ 89.      ,  90.      , 111.      ],\n",
       "         ...,\n",
       "         [187.      , 179.      , 194.      ],\n",
       "         [189.      , 178.      , 192.      ],\n",
       "         [189.      , 181.      , 194.      ]],\n",
       "\n",
       "        [[ 81.      ,  82.      , 103.      ],\n",
       "         [ 82.      ,  83.      , 104.      ],\n",
       "         [ 85.      ,  86.      , 107.      ],\n",
       "         ...,\n",
       "         [186.      , 180.      , 190.      ],\n",
       "         [189.      , 181.      , 192.      ],\n",
       "         [190.      , 184.      , 194.      ]],\n",
       "\n",
       "        [[ 92.      ,  93.      , 114.      ],\n",
       "         [ 88.      ,  89.      , 110.      ],\n",
       "         [ 89.      ,  90.      , 111.      ],\n",
       "         ...,\n",
       "         [187.      , 182.      , 189.      ],\n",
       "         [190.      , 185.      , 192.      ],\n",
       "         [192.      , 187.      , 194.      ]]],\n",
       "\n",
       "\n",
       "       [[[115.      ,  96.      , 102.      ],\n",
       "         [135.16406 , 116.16406 , 122.16406 ],\n",
       "         [143.50781 , 124.50781 , 130.50781 ],\n",
       "         ...,\n",
       "         [171.71094 , 156.71094 , 161.71094 ],\n",
       "         [177.99219 , 162.99219 , 167.99219 ],\n",
       "         [162.      , 147.      , 152.      ]],\n",
       "\n",
       "        [[142.11719 , 123.11719 , 129.11719 ],\n",
       "         [157.93011 , 138.93011 , 144.93011 ],\n",
       "         [159.23383 , 140.23383 , 146.23383 ],\n",
       "         ...,\n",
       "         [157.53851 , 142.53851 , 147.53851 ],\n",
       "         [175.94427 , 160.94427 , 165.94427 ],\n",
       "         [175.90625 , 160.90625 , 165.90625 ]],\n",
       "\n",
       "        [[155.47656 , 136.47656 , 142.47656 ],\n",
       "         [160.48499 , 141.48499 , 147.48499 ],\n",
       "         [152.62445 , 133.62445 , 139.62445 ],\n",
       "         ...,\n",
       "         [147.5329  , 132.5329  , 137.5329  ],\n",
       "         [160.66193 , 145.66193 , 150.66193 ],\n",
       "         [158.375   , 143.375   , 148.375   ]],\n",
       "\n",
       "        ...,\n",
       "\n",
       "        [[ 71.47656 , 105.47656 ,  68.47656 ],\n",
       "         [ 87.57739 , 121.57739 ,  84.57739 ],\n",
       "         [ 79.58649 , 114.078674,  75.60211 ],\n",
       "         ...,\n",
       "         [169.47656 , 154.47656 , 161.47656 ],\n",
       "         [168.52972 , 153.52972 , 160.52972 ],\n",
       "         [167.49219 , 152.49219 , 159.49219 ]],\n",
       "\n",
       "        [[ 58.117188,  92.11719 ,  55.117188],\n",
       "         [ 85.51141 , 119.51141 ,  82.51141 ],\n",
       "         [ 79.23932 , 113.73151 ,  75.254944],\n",
       "         ...,\n",
       "         [168.1875  , 153.1875  , 160.1875  ],\n",
       "         [167.29779 , 152.29779 , 159.29779 ],\n",
       "         [166.39062 , 151.39062 , 158.39062 ]],\n",
       "\n",
       "        [[ 31.      ,  65.      ,  28.      ],\n",
       "         [ 68.546875, 102.546875,  65.546875],\n",
       "         [ 64.328125,  98.82031 ,  60.34375 ],\n",
       "         ...,\n",
       "         [167.49219 , 152.49219 , 159.49219 ],\n",
       "         [166.39062 , 151.39062 , 158.39062 ],\n",
       "         [165.      , 150.      , 157.      ]]],\n",
       "\n",
       "\n",
       "       [[[119.      , 111.      , 109.      ],\n",
       "         [125.      , 117.      , 115.      ],\n",
       "         [117.      , 109.      , 107.      ],\n",
       "         ...,\n",
       "         [170.      , 166.      , 167.      ],\n",
       "         [171.      , 167.      , 168.      ],\n",
       "         [178.      , 174.      , 175.      ]],\n",
       "\n",
       "        [[121.      , 113.      , 111.      ],\n",
       "         [125.      , 117.      , 115.      ],\n",
       "         [123.      , 115.      , 113.      ],\n",
       "         ...,\n",
       "         [170.      , 166.      , 167.      ],\n",
       "         [171.      , 167.      , 168.      ],\n",
       "         [177.      , 173.      , 174.      ]],\n",
       "\n",
       "        [[122.      , 114.      , 112.      ],\n",
       "         [123.      , 115.      , 113.      ],\n",
       "         [129.      , 121.      , 119.      ],\n",
       "         ...,\n",
       "         [169.      , 165.      , 166.      ],\n",
       "         [170.      , 166.      , 167.      ],\n",
       "         [176.      , 172.      , 173.      ]],\n",
       "\n",
       "        ...,\n",
       "\n",
       "        [[ 98.      ,  92.      ,  94.      ],\n",
       "         [112.      , 106.      , 108.      ],\n",
       "         [111.      , 105.      , 107.      ],\n",
       "         ...,\n",
       "         [176.      , 174.      , 177.      ],\n",
       "         [176.      , 174.      , 177.      ],\n",
       "         [177.      , 175.      , 178.      ]],\n",
       "\n",
       "        [[121.      , 115.      , 117.      ],\n",
       "         [125.      , 119.      , 121.      ],\n",
       "         [119.      , 113.      , 115.      ],\n",
       "         ...,\n",
       "         [175.      , 173.      , 176.      ],\n",
       "         [175.      , 173.      , 176.      ],\n",
       "         [176.      , 174.      , 177.      ]],\n",
       "\n",
       "        [[101.      ,  95.      ,  97.      ],\n",
       "         [114.      , 108.      , 110.      ],\n",
       "         [115.      , 109.      , 111.      ],\n",
       "         ...,\n",
       "         [176.      , 174.      , 177.      ],\n",
       "         [180.      , 178.      , 181.      ],\n",
       "         [183.      , 181.      , 184.      ]]]], dtype=float32)"
      ]
     },
     "execution_count": 10,
     "metadata": {},
     "output_type": "execute_result"
    }
   ],
   "source": [
    "# This represents the images\n",
    "batch[0]"
   ]
  },
  {
   "cell_type": "code",
   "execution_count": 11,
   "metadata": {
    "colab": {
     "base_uri": "https://localhost:8080/"
    },
    "id": "PFCBttJmdOX6",
    "outputId": "16906051-704f-4da8-b6dc-cec2f5f90d1b"
   },
   "outputs": [
    {
     "data": {
      "text/plain": [
       "array([34, 51, 49, 26,  5,  3,  3, 21, 32,  5,  4, 55, 21,  4, 55,  3, 44,\n",
       "       17, 52, 35, 55, 55, 27, 19,  2, 16, 55, 55, 16,  5, 41, 23])"
      ]
     },
     "execution_count": 11,
     "metadata": {},
     "output_type": "execute_result"
    }
   ],
   "source": [
    "# This represents label\n",
    "batch[1]"
   ]
  },
  {
   "cell_type": "markdown",
   "metadata": {
    "id": "z6SYr79zFeGA"
   },
   "source": [
    "# Scale the data"
   ]
  },
  {
   "cell_type": "code",
   "execution_count": 12,
   "metadata": {},
   "outputs": [
    {
     "data": {
      "text/plain": [
       "(32, 256, 256, 3)"
      ]
     },
     "execution_count": 12,
     "metadata": {},
     "output_type": "execute_result"
    }
   ],
   "source": [
    "batch[0].shape"
   ]
  },
  {
   "cell_type": "code",
   "execution_count": 13,
   "metadata": {
    "id": "8s6vvmN2e6yU"
   },
   "outputs": [],
   "source": [
    "# Transforming data in range 0 to 1 to speed up computation\n",
    "\n",
    "data = data.map(lambda x,y: (x/255, y))"
   ]
  },
  {
   "cell_type": "code",
   "execution_count": 14,
   "metadata": {},
   "outputs": [],
   "source": [
    "scaled_iterator = data.as_numpy_iterator()"
   ]
  },
  {
   "cell_type": "code",
   "execution_count": 15,
   "metadata": {
    "id": "XJRF-z6MFlhW"
   },
   "outputs": [],
   "source": [
    "batch = scaled_iterator.next()"
   ]
  },
  {
   "cell_type": "markdown",
   "metadata": {},
   "source": [
    "# Split the Data"
   ]
  },
  {
   "cell_type": "code",
   "execution_count": 16,
   "metadata": {},
   "outputs": [],
   "source": [
    "train_size = int(len(data)*.85)\n",
    "val_size = int(len(data)*.10)\n",
    "test_size = int(len(data)*.05)+2"
   ]
  },
  {
   "cell_type": "code",
   "execution_count": 17,
   "metadata": {},
   "outputs": [
    {
     "data": {
      "text/plain": [
       "1655"
      ]
     },
     "execution_count": 17,
     "metadata": {},
     "output_type": "execute_result"
    }
   ],
   "source": [
    "len(data)"
   ]
  },
  {
   "cell_type": "code",
   "execution_count": 18,
   "metadata": {},
   "outputs": [
    {
     "data": {
      "text/plain": [
       "1406"
      ]
     },
     "execution_count": 18,
     "metadata": {},
     "output_type": "execute_result"
    }
   ],
   "source": [
    "train_size"
   ]
  },
  {
   "cell_type": "code",
   "execution_count": 19,
   "metadata": {},
   "outputs": [
    {
     "data": {
      "text/plain": [
       "165"
      ]
     },
     "execution_count": 19,
     "metadata": {},
     "output_type": "execute_result"
    }
   ],
   "source": [
    "val_size"
   ]
  },
  {
   "cell_type": "code",
   "execution_count": 20,
   "metadata": {},
   "outputs": [
    {
     "data": {
      "text/plain": [
       "84"
      ]
     },
     "execution_count": 20,
     "metadata": {},
     "output_type": "execute_result"
    }
   ],
   "source": [
    "test_size"
   ]
  },
  {
   "cell_type": "code",
   "execution_count": 21,
   "metadata": {},
   "outputs": [],
   "source": [
    "train = data.take(train_size)\n",
    "val = data.skip(train_size).take(val_size)\n",
    "test = (data.skip(train_size+val_size).take(test_size))"
   ]
  },
  {
   "cell_type": "markdown",
   "metadata": {},
   "source": [
    "# Building Deep CNN Model"
   ]
  },
  {
   "cell_type": "code",
   "execution_count": 22,
   "metadata": {},
   "outputs": [],
   "source": [
    "from tensorflow.keras.models import Sequential\n",
    "from tensorflow.keras.layers import Conv2D, MaxPooling2D, Dense, Flatten, Dropout, Softmax"
   ]
  },
  {
   "cell_type": "code",
   "execution_count": 23,
   "metadata": {},
   "outputs": [
    {
     "data": {
      "text/plain": [
       "1.0"
      ]
     },
     "execution_count": 23,
     "metadata": {},
     "output_type": "execute_result"
    }
   ],
   "source": [
    "batch[0].max()"
   ]
  },
  {
   "cell_type": "code",
   "execution_count": 24,
   "metadata": {},
   "outputs": [],
   "source": [
    "model = Sequential()"
   ]
  },
  {
   "cell_type": "code",
   "execution_count": 25,
   "metadata": {},
   "outputs": [],
   "source": [
    "model.add(Conv2D(32, (3,3), 1, activation='relu', input_shape=(256,256,3)))\n",
    "model.add(MaxPooling2D(pool_size=(2,2)))\n",
    "model.add(Conv2D(64, (3,3), 1, activation='relu'))\n",
    "model.add(MaxPooling2D(pool_size=(2,2)))\n",
    "model.add(Dropout(0.5))\n",
    "model.add(Conv2D(128, (3,3), 1, activation='relu'))\n",
    "model.add(MaxPooling2D(pool_size=(2,2)))\n",
    "model.add(Dropout(0.5))\n",
    "model.add(Conv2D(256, (3,3), 1, activation='relu'))\n",
    "model.add(MaxPooling2D(pool_size=(2,2)))\n",
    "model.add(Dropout(0.5))\n",
    "model.add(Conv2D(512, (3,3), 1, activation='relu'))\n",
    "model.add(MaxPooling2D(pool_size=(2,2)))\n",
    "model.add(Flatten())\n",
    "model.add(Dense(512, activation='relu'))\n",
    "model.add(Dropout(0.25))\n",
    "model.add(Dense(256, activation='relu'))\n",
    "model.add(Dropout(0.25))\n",
    "model.add(Dense(56, activation='softmax'))"
   ]
  },
  {
   "cell_type": "code",
   "execution_count": 26,
   "metadata": {},
   "outputs": [],
   "source": [
    "from keras.optimizers import Adam\n",
    "# Adam is used instead of the classical stochastic gradient descent procedure to update network weights iterative based in training data.\n",
    "model.compile(optimizer = Adam(learning_rate=0.0001), loss='sparse_categorical_crossentropy', metrics=['accuracy'])"
   ]
  },
  {
   "cell_type": "code",
   "execution_count": 27,
   "metadata": {},
   "outputs": [
    {
     "name": "stdout",
     "output_type": "stream",
     "text": [
      "Model: \"sequential\"\n",
      "_________________________________________________________________\n",
      " Layer (type)                Output Shape              Param #   \n",
      "=================================================================\n",
      " conv2d (Conv2D)             (None, 254, 254, 32)      896       \n",
      "                                                                 \n",
      " max_pooling2d (MaxPooling2D  (None, 127, 127, 32)     0         \n",
      " )                                                               \n",
      "                                                                 \n",
      " conv2d_1 (Conv2D)           (None, 125, 125, 64)      18496     \n",
      "                                                                 \n",
      " max_pooling2d_1 (MaxPooling  (None, 62, 62, 64)       0         \n",
      " 2D)                                                             \n",
      "                                                                 \n",
      " dropout (Dropout)           (None, 62, 62, 64)        0         \n",
      "                                                                 \n",
      " conv2d_2 (Conv2D)           (None, 60, 60, 128)       73856     \n",
      "                                                                 \n",
      " max_pooling2d_2 (MaxPooling  (None, 30, 30, 128)      0         \n",
      " 2D)                                                             \n",
      "                                                                 \n",
      " dropout_1 (Dropout)         (None, 30, 30, 128)       0         \n",
      "                                                                 \n",
      " conv2d_3 (Conv2D)           (None, 28, 28, 256)       295168    \n",
      "                                                                 \n",
      " max_pooling2d_3 (MaxPooling  (None, 14, 14, 256)      0         \n",
      " 2D)                                                             \n",
      "                                                                 \n",
      " dropout_2 (Dropout)         (None, 14, 14, 256)       0         \n",
      "                                                                 \n",
      " conv2d_4 (Conv2D)           (None, 12, 12, 512)       1180160   \n",
      "                                                                 \n",
      " max_pooling2d_4 (MaxPooling  (None, 6, 6, 512)        0         \n",
      " 2D)                                                             \n",
      "                                                                 \n",
      " flatten (Flatten)           (None, 18432)             0         \n",
      "                                                                 \n",
      " dense (Dense)               (None, 512)               9437696   \n",
      "                                                                 \n",
      " dropout_3 (Dropout)         (None, 512)               0         \n",
      "                                                                 \n",
      " dense_1 (Dense)             (None, 256)               131328    \n",
      "                                                                 \n",
      " dropout_4 (Dropout)         (None, 256)               0         \n",
      "                                                                 \n",
      " dense_2 (Dense)             (None, 56)                14392     \n",
      "                                                                 \n",
      "=================================================================\n",
      "Total params: 11,151,992\n",
      "Trainable params: 11,151,992\n",
      "Non-trainable params: 0\n",
      "_________________________________________________________________\n"
     ]
    }
   ],
   "source": [
    "model.summary()"
   ]
  },
  {
   "cell_type": "markdown",
   "metadata": {},
   "source": [
    "# Training"
   ]
  },
  {
   "cell_type": "code",
   "execution_count": 28,
   "metadata": {},
   "outputs": [],
   "source": [
    "logdir='logs'"
   ]
  },
  {
   "cell_type": "code",
   "execution_count": 29,
   "metadata": {},
   "outputs": [],
   "source": [
    "tensorboard_callback = tf.keras.callbacks.TensorBoard(log_dir=logdir)"
   ]
  },
  {
   "cell_type": "code",
   "execution_count": 31,
   "metadata": {},
   "outputs": [],
   "source": [
    "callback = tf.keras.callbacks.EarlyStopping(monitor='loss', patience=3)"
   ]
  },
  {
   "cell_type": "code",
   "execution_count": 32,
   "metadata": {},
   "outputs": [
    {
     "name": "stdout",
     "output_type": "stream",
     "text": [
      "Epoch 1/15\n",
      "1406/1406 [==============================] - 931s 659ms/step - loss: 2.5178 - accuracy: 0.3213 - val_loss: 1.5789 - val_accuracy: 0.5975\n",
      "Epoch 2/15\n",
      "1406/1406 [==============================] - 946s 672ms/step - loss: 1.2279 - accuracy: 0.6257 - val_loss: 0.9094 - val_accuracy: 0.7511\n",
      "Epoch 3/15\n",
      "1406/1406 [==============================] - 1005s 714ms/step - loss: 0.8554 - accuracy: 0.7358 - val_loss: 0.6633 - val_accuracy: 0.8152\n",
      "Epoch 4/15\n",
      "1406/1406 [==============================] - 949s 674ms/step - loss: 0.6548 - accuracy: 0.7935 - val_loss: 0.5120 - val_accuracy: 0.8500\n",
      "Epoch 5/15\n",
      "1406/1406 [==============================] - 927s 659ms/step - loss: 0.5311 - accuracy: 0.8311 - val_loss: 0.4778 - val_accuracy: 0.8562\n",
      "Epoch 6/15\n",
      "1406/1406 [==============================] - 919s 653ms/step - loss: 0.4309 - accuracy: 0.8610 - val_loss: 0.3461 - val_accuracy: 0.8937\n",
      "Epoch 7/15\n",
      "1406/1406 [==============================] - 921s 655ms/step - loss: 0.3639 - accuracy: 0.8825 - val_loss: 0.3037 - val_accuracy: 0.9055\n",
      "Epoch 8/15\n",
      "1406/1406 [==============================] - 950s 675ms/step - loss: 0.3040 - accuracy: 0.9001 - val_loss: 0.2776 - val_accuracy: 0.9123\n",
      "Epoch 9/15\n",
      "1406/1406 [==============================] - 946s 672ms/step - loss: 0.2589 - accuracy: 0.9156 - val_loss: 0.2604 - val_accuracy: 0.9148\n",
      "Epoch 10/15\n",
      "1406/1406 [==============================] - 942s 669ms/step - loss: 0.2291 - accuracy: 0.9250 - val_loss: 0.2295 - val_accuracy: 0.9271\n",
      "Epoch 11/15\n",
      "1406/1406 [==============================] - 942s 670ms/step - loss: 0.1958 - accuracy: 0.9347 - val_loss: 0.2168 - val_accuracy: 0.9273\n",
      "Epoch 12/15\n",
      "1406/1406 [==============================] - 944s 671ms/step - loss: 0.1776 - accuracy: 0.9417 - val_loss: 0.2108 - val_accuracy: 0.9320\n",
      "Epoch 13/15\n",
      "1406/1406 [==============================] - 943s 670ms/step - loss: 0.1589 - accuracy: 0.9470 - val_loss: 0.2073 - val_accuracy: 0.9333\n",
      "Epoch 14/15\n",
      "1406/1406 [==============================] - 954s 678ms/step - loss: 0.1441 - accuracy: 0.9524 - val_loss: 0.2027 - val_accuracy: 0.9364\n",
      "Epoch 15/15\n",
      "1406/1406 [==============================] - 925s 657ms/step - loss: 0.1301 - accuracy: 0.9562 - val_loss: 0.1745 - val_accuracy: 0.9470\n"
     ]
    }
   ],
   "source": [
    "hist = model.fit(train, epochs=15, validation_data=val, callbacks=[callback])"
   ]
  },
  {
   "cell_type": "markdown",
   "metadata": {},
   "source": [
    "# Plot Performance"
   ]
  },
  {
   "cell_type": "code",
   "execution_count": 33,
   "metadata": {},
   "outputs": [
    {
     "data": {
      "image/png": "[encoded data removed]",
      "text/plain": [
       "<Figure size 640x480 with 1 Axes>"
      ]
     },
     "metadata": {},
     "output_type": "display_data"
    }
   ],
   "source": [
    "fig = plt.figure()\n",
    "plt.plot(hist.history['loss'], color='teal', label='loss')\n",
    "plt.plot(hist.history['val_loss'], color='orange', label='val_loss')\n",
    "fig.suptitle('Loss', fontsize=20)\n",
    "plt.legend(loc=\"upper left\")\n",
    "plt.show()"
   ]
  },
  {
   "cell_type": "code",
   "execution_count": 34,
   "metadata": {},
   "outputs": [
    {
     "data": {
      "image/png": "[encoded data removed]",
      "text/plain": [
       "<Figure size 640x480 with 1 Axes>"
      ]
     },
     "metadata": {},
     "output_type": "display_data"
    }
   ],
   "source": [
    "fig = plt.figure()\n",
    "plt.plot(hist.history['accuracy'], color='teal', label='accuracy')\n",
    "plt.plot(hist.history['val_accuracy'], color='orange', label='val_accuracy')\n",
    "fig.suptitle('Accuracy', fontsize=20)\n",
    "plt.legend(loc=\"upper left\")\n",
    "plt.show()"
   ]
  },
  {
   "cell_type": "markdown",
   "metadata": {},
   "source": [
    "# Loading the model"
   ]
  },
  {
   "cell_type": "code",
   "execution_count": 36,
   "metadata": {},
   "outputs": [],
   "source": [
    "model.save('my_model.h5')"
   ]
  },
  {
   "cell_type": "code",
   "execution_count": 22,
   "metadata": {},
   "outputs": [],
   "source": [
    "from tensorflow.keras.models import load_model\n",
    "\n",
    "# Load the saved model from file\n",
    "loaded_model = load_model('my_model.h5')"
   ]
  },
  {
   "cell_type": "code",
   "execution_count": 9,
   "metadata": {},
   "outputs": [
    {
     "name": "stdout",
     "output_type": "stream",
     "text": [
      "1/1 [==============================] - 0s 31ms/step\n",
      "Predicted class label: 47\n"
     ]
    }
   ],
   "source": [
    "import numpy as np\n",
    "from tensorflow.keras.preprocessing import image\n",
    "\n",
    "# Load the image file and preprocess it for prediction\n",
    "img = image.load_img('Dataset/Test/img11.png', target_size=(256, 256), grayscale=False)\n",
    "img_array = image.img_to_array(img)\n",
    "img_array = np.expand_dims(img_array, axis=0)\n",
    "img_array /= 255.0\n",
    "\n",
    "# Use the loaded model to make predictions on the image\n",
    "predictions = loaded_model.predict(img_array)\n",
    "\n",
    "# Get the predicted class label\n",
    "class_label = np.argmax(predictions)\n",
    "\n",
    "# Print the predicted class label\n",
    "print('Predicted class label:', class_label)"
   ]
  },
  {
   "cell_type": "code",
   "execution_count": null,
   "metadata": {},
   "outputs": [],
   "source": []
  }
 ],
 "metadata": {
  "accelerator": "GPU",
  "colab": {
   "provenance": []
  },
  "gpuClass": "standard",
  "kernelspec": {
   "display_name": "Python 3 (ipykernel)",
   "language": "python",
   "name": "python3"
  },
  "language_info": {
   "codemirror_mode": {
    "name": "ipython",
    "version": 3
   },
   "file_extension": ".py",
   "mimetype": "text/x-python",
   "name": "python",
   "nbconvert_exporter": "python",
   "pygments_lexer": "ipython3",
   "version": "3.9.13"
  }
 },
 "nbformat": 4,
 "nbformat_minor": 1
}
