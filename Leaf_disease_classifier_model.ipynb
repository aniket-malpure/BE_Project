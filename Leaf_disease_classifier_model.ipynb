{
 "cells": [
  {
   "cell_type": "markdown",
   "metadata": {
    "id": "ZRR8V4fEZ9HD"
   },
   "source": [
    "# Datasets"
   ]
  },
  {
   "cell_type": "markdown",
   "metadata": {
    "id": "YTWADOGvaAhy"
   },
   "source": [
    "[https://data.mendeley.com/datasets/tywbtsjrjv/1](https://data.mendeley.com/datasets/tywbtsjrjv/1)"
   ]
  },
  {
   "cell_type": "markdown",
   "metadata": {
    "id": "NtsX8HgZasim"
   },
   "source": [
    "[https://data.mendeley.com/datasets/hb74ynkjcn/1](https://data.mendeley.com/datasets/hb74ynkjcn/1)"
   ]
  },
  {
   "cell_type": "markdown",
   "metadata": {
    "id": "7RRq46zbbk96"
   },
   "source": [
    "[https://www.kaggle.com/datasets/janmejaybhoi/cotton-disease-dataset](https://www.kaggle.com/datasets/janmejaybhoi/cotton-disease-dataset)"
   ]
  },
  {
   "cell_type": "markdown",
   "metadata": {
    "id": "0U6QMLieDeRN"
   },
   "source": [
    "# Installing dependencies and Setup"
   ]
  },
  {
   "cell_type": "code",
   "execution_count": 1,
   "metadata": {
    "id": "dF8yUu8DCCbz"
   },
   "outputs": [],
   "source": [
    "import tensorflow as tf\n",
    "import os"
   ]
  },
  {
   "cell_type": "code",
   "execution_count": 2,
   "metadata": {
    "colab": {
     "base_uri": "https://localhost:8080/"
    },
    "id": "Ttw44MFKDkAG",
    "outputId": "c0c716c0-9acc-4dcb-99af-f7cad22f9d70"
   },
   "outputs": [
    {
     "data": {
      "text/plain": [
       "[PhysicalDevice(name='/physical_device:GPU:0', device_type='GPU')]"
      ]
     },
     "execution_count": 2,
     "metadata": {},
     "output_type": "execute_result"
    }
   ],
   "source": [
    "tf.config.list_physical_devices('GPU')"
   ]
  },
  {
   "cell_type": "code",
   "execution_count": 3,
   "metadata": {
    "colab": {
     "base_uri": "https://localhost:8080/"
    },
    "id": "IZhEPQxfD6Ai",
    "outputId": "0a8334bf-cf51-475e-976b-2c344d911a42"
   },
   "outputs": [
    {
     "data": {
      "text/plain": [
       "[PhysicalDevice(name='/physical_device:CPU:0', device_type='CPU')]"
      ]
     },
     "execution_count": 3,
     "metadata": {},
     "output_type": "execute_result"
    }
   ],
   "source": [
    "tf.config.list_physical_devices('CPU')"
   ]
  },
  {
   "cell_type": "code",
   "execution_count": 4,
   "metadata": {
    "id": "IsQJxFl8D7L4"
   },
   "outputs": [],
   "source": [
    "# Avoid OOM (Out of Memory) errors by setting GPU Memory Consumption Growth\n",
    "gpus = tf.config.experimental.list_physical_devices('GPU')\n",
    "for gpu in gpus: \n",
    "    tf.config.experimental.set_memory_growth(gpu, True)"
   ]
  },
  {
   "cell_type": "markdown",
   "metadata": {
    "id": "87dnerkyEEtU"
   },
   "source": [
    "# Remove Dodgy Images"
   ]
  },
  {
   "cell_type": "code",
   "execution_count": 5,
   "metadata": {
    "id": "7ph4qPjEEBhp"
   },
   "outputs": [],
   "source": [
    "import cv2\n",
    "import imghdr # To check image extensions"
   ]
  },
  {
   "cell_type": "code",
   "execution_count": null,
   "metadata": {
    "id": "p1R2kVoKEIOX"
   },
   "outputs": [],
   "source": [
    "image_exts = ['jpg', 'jpeg', 'png']"
   ]
  },
  {
   "cell_type": "code",
   "execution_count": null,
   "metadata": {
    "id": "5PKRL1cJEqX9"
   },
   "outputs": [],
   "source": [
    "for image_class in os.listdir(data_dir): \n",
    "    for image in os.listdir(os.path.join(data_dir, image_class)):\n",
    "        image_path = os.path.join(data_dir, image_class, image)\n",
    "        try: \n",
    "            img = cv2.imread(image_path)   # Reads as an array\n",
    "            tip = imghdr.what(image_path)\n",
    "            if tip not in image_exts: \n",
    "                print('Image not in ext list {}'.format(image_path))\n",
    "                os.remove(image_path)\n",
    "        except Exception as e: \n",
    "            print('Issue with image {}'.format(image_path))"
   ]
  },
  {
   "cell_type": "markdown",
   "metadata": {
    "id": "fJWQqzRoOCDx"
   },
   "source": [
    "# Load the Data"
   ]
  },
  {
   "cell_type": "code",
   "execution_count": 5,
   "metadata": {
    "id": "jbSzcDI1MYVd"
   },
   "outputs": [],
   "source": [
    "data_dir = 'Dataset/Data/'"
   ]
  },
  {
   "cell_type": "code",
   "execution_count": 6,
   "metadata": {
    "id": "9xAanYeHSCva"
   },
   "outputs": [],
   "source": [
    "import numpy as np\n",
    "from matplotlib import pyplot as plt"
   ]
  },
  {
   "cell_type": "code",
   "execution_count": 7,
   "metadata": {
    "colab": {
     "base_uri": "https://localhost:8080/"
    },
    "id": "G8GnLSa0SGkM",
    "outputId": "61fcaf20-7426-45f0-8c3f-ab3e8414ccdc"
   },
   "outputs": [
    {
     "name": "stdout",
     "output_type": "stream",
     "text": [
      "Found 52945 files belonging to 56 classes.\n"
     ]
    }
   ],
   "source": [
    "data = tf.keras.utils.image_dataset_from_directory(data_dir)"
   ]
  },
  {
   "cell_type": "code",
   "execution_count": 8,
   "metadata": {
    "id": "G1d1K2vnSJwP"
   },
   "outputs": [],
   "source": [
    "data_iterator = data.as_numpy_iterator()"
   ]
  },
  {
   "cell_type": "code",
   "execution_count": 9,
   "metadata": {
    "id": "TwB_9JJ7SPj6"
   },
   "outputs": [],
   "source": [
    "batch = data_iterator.next()"
   ]
  },
  {
   "cell_type": "code",
   "execution_count": 11,
   "metadata": {
    "collapsed": true,
    "id": "VSEa8dsNZW0Q"
   },
   "outputs": [
    {
     "data": {
      "text/plain": [
       "array([[[[129.      , 118.      , 124.      ],\n",
       "         [134.      , 123.      , 129.      ],\n",
       "         [163.      , 152.      , 158.      ],\n",
       "         ...,\n",
       "         [163.      , 157.      , 161.      ],\n",
       "         [175.      , 169.      , 173.      ],\n",
       "         [165.      , 159.      , 163.      ]],\n",
       "\n",
       "        [[118.      , 107.      , 113.      ],\n",
       "         [155.      , 144.      , 150.      ],\n",
       "         [122.      , 111.      , 117.      ],\n",
       "         ...,\n",
       "         [146.      , 140.      , 144.      ],\n",
       "         [187.      , 181.      , 185.      ],\n",
       "         [205.      , 199.      , 203.      ]],\n",
       "\n",
       "        [[133.      , 122.      , 128.      ],\n",
       "         [143.      , 132.      , 138.      ],\n",
       "         [148.      , 137.      , 143.      ],\n",
       "         ...,\n",
       "         [156.      , 150.      , 154.      ],\n",
       "         [176.      , 170.      , 174.      ],\n",
       "         [170.      , 164.      , 168.      ]],\n",
       "\n",
       "        ...,\n",
       "\n",
       "        [[ 13.      ,  16.      ,  23.      ],\n",
       "         [ 13.      ,  16.      ,  23.      ],\n",
       "         [ 14.      ,  17.      ,  24.      ],\n",
       "         ...,\n",
       "         [175.      , 168.      , 175.      ],\n",
       "         [190.      , 183.      , 190.      ],\n",
       "         [150.      , 143.      , 150.      ]],\n",
       "\n",
       "        [[ 13.      ,  16.      ,  23.      ],\n",
       "         [ 13.      ,  16.      ,  23.      ],\n",
       "         [ 14.      ,  17.      ,  24.      ],\n",
       "         ...,\n",
       "         [184.      , 177.      , 184.      ],\n",
       "         [199.      , 192.      , 199.      ],\n",
       "         [176.      , 169.      , 176.      ]],\n",
       "\n",
       "        [[ 13.      ,  16.      ,  23.      ],\n",
       "         [ 13.      ,  16.      ,  23.      ],\n",
       "         [ 14.      ,  17.      ,  24.      ],\n",
       "         ...,\n",
       "         [165.      , 158.      , 165.      ],\n",
       "         [166.      , 159.      , 166.      ],\n",
       "         [186.      , 179.      , 186.      ]]],\n",
       "\n",
       "\n",
       "       [[[ 62.61914 ,  81.61914 ,  96.61914 ],\n",
       "         [ 57.91797 ,  76.91797 ,  91.91797 ],\n",
       "         [ 59.970703,  78.9707  ,  93.9707  ],\n",
       "         ...,\n",
       "         [ 48.5     ,  61.5     ,  70.5     ],\n",
       "         [ 47.41992 ,  60.41992 ,  69.41992 ],\n",
       "         [ 50.01953 ,  60.01953 ,  70.01953 ]],\n",
       "\n",
       "        [[ 56.17383 ,  75.17383 ,  90.17383 ],\n",
       "         [ 61.      ,  80.      ,  95.      ],\n",
       "         [ 57.09961 ,  76.09961 ,  91.09961 ],\n",
       "         ...,\n",
       "         [ 52.90625 ,  65.90625 ,  74.90625 ],\n",
       "         [ 50.34375 ,  63.34375 ,  72.34375 ],\n",
       "         [ 51.78125 ,  61.78125 ,  71.78125 ]],\n",
       "\n",
       "        [[ 63.220703,  82.2207  ,  97.2207  ],\n",
       "         [ 58.34375 ,  77.34375 ,  92.34375 ],\n",
       "         [ 60.875   ,  79.875   ,  94.875   ],\n",
       "         ...,\n",
       "         [ 50.970703,  63.970703,  72.9707  ],\n",
       "         [ 50.34375 ,  63.34375 ,  72.34375 ],\n",
       "         [ 54.658203,  64.6582  ,  74.6582  ]],\n",
       "\n",
       "        ...,\n",
       "\n",
       "        [[ 41.      ,  46.      ,  49.      ],\n",
       "         [ 46.06836 ,  51.06836 ,  54.06836 ],\n",
       "         [ 41.05078 ,  46.05078 ,  49.05078 ],\n",
       "         ...,\n",
       "         [ 25.021484,  29.021484,  30.021484],\n",
       "         [ 26.34375 ,  30.34375 ,  31.34375 ],\n",
       "         [ 26.      ,  30.      ,  31.      ]],\n",
       "\n",
       "        [[ 41.      ,  45.      ,  48.      ],\n",
       "         [ 38.      ,  43.      ,  46.      ],\n",
       "         [ 39.05664 ,  43.05664 ,  46.05664 ],\n",
       "         ...,\n",
       "         [ 29.      ,  33.      ,  34.      ],\n",
       "         [ 25.769531,  29.769531,  30.769531],\n",
       "         [ 26.625   ,  30.625   ,  31.625   ]],\n",
       "\n",
       "        [[ 39.58008 ,  43.58008 ,  46.58008 ],\n",
       "         [ 35.86133 ,  39.86133 ,  42.86133 ],\n",
       "         [ 37.867188,  41.867188,  44.867188],\n",
       "         ...,\n",
       "         [ 30.998047,  34.998047,  35.998047],\n",
       "         [ 26.138672,  30.138672,  31.138672],\n",
       "         [ 26.898438,  30.898438,  31.898438]]],\n",
       "\n",
       "\n",
       "       [[[129.      , 116.      , 133.      ],\n",
       "         [122.74219 , 110.4375  , 125.35156 ],\n",
       "         [132.30469 , 121.28906 , 132.82812 ],\n",
       "         ...,\n",
       "         [156.50781 , 146.50781 , 154.50781 ],\n",
       "         [157.60938 , 147.60938 , 155.60938 ],\n",
       "         [159.      , 149.      , 157.      ]],\n",
       "\n",
       "        [[113.703125, 100.703125, 117.703125],\n",
       "         [125.81677 , 113.512085, 128.42615 ],\n",
       "         [147.53638 , 136.52075 , 148.05981 ],\n",
       "         ...,\n",
       "         [155.8125  , 145.8125  , 153.8125  ],\n",
       "         [156.70221 , 146.70221 , 154.70221 ],\n",
       "         [157.60938 , 147.60938 , 155.60938 ]],\n",
       "\n",
       "        [[135.05469 , 122.05469 , 139.05469 ],\n",
       "         [135.02753 , 122.72284 , 137.6369  ],\n",
       "         [137.48041 , 126.46478 , 138.00385 ],\n",
       "         ...,\n",
       "         [155.01562 , 145.01562 , 153.01562 ],\n",
       "         [155.66254 , 145.66254 , 153.66254 ],\n",
       "         [156.01562 , 146.01562 , 154.01562 ]],\n",
       "\n",
       "        ...,\n",
       "\n",
       "        [[175.01562 , 168.01562 , 176.01562 ],\n",
       "         [168.0951  , 161.0951  , 169.0951  ],\n",
       "         [165.8277  , 158.8277  , 166.8277  ],\n",
       "         ...,\n",
       "         [178.25018 , 171.25018 , 179.25018 ],\n",
       "         [179.30945 , 172.30945 , 180.30945 ],\n",
       "         [180.01562 , 173.01562 , 181.01562 ]],\n",
       "\n",
       "        [[163.50781 , 156.50781 , 164.50781 ],\n",
       "         [166.9029  , 159.9029  , 167.9029  ],\n",
       "         [167.55237 , 160.55237 , 168.55237 ],\n",
       "         ...,\n",
       "         [178.74695 , 171.74695 , 179.74695 ],\n",
       "         [181.22565 , 174.22565 , 182.22565 ],\n",
       "         [182.82812 , 175.82812 , 183.82812 ]],\n",
       "\n",
       "        [[135.      , 128.      , 136.      ],\n",
       "         [157.25    , 150.25    , 158.25    ],\n",
       "         [158.63281 , 151.63281 , 159.63281 ],\n",
       "         ...,\n",
       "         [181.53906 , 174.53906 , 182.53906 ],\n",
       "         [184.91406 , 177.91406 , 185.91406 ],\n",
       "         [187.      , 180.      , 188.      ]]],\n",
       "\n",
       "\n",
       "       ...,\n",
       "\n",
       "\n",
       "       [[[131.      , 134.      , 143.      ],\n",
       "         [131.      , 134.      , 143.      ],\n",
       "         [130.      , 133.      , 142.      ],\n",
       "         ...,\n",
       "         [144.      , 143.      , 149.      ],\n",
       "         [146.      , 145.      , 151.      ],\n",
       "         [147.      , 146.      , 152.      ]],\n",
       "\n",
       "        [[132.      , 135.      , 144.      ],\n",
       "         [132.      , 135.      , 144.      ],\n",
       "         [131.      , 134.      , 143.      ],\n",
       "         ...,\n",
       "         [142.      , 141.      , 147.      ],\n",
       "         [141.      , 140.      , 146.      ],\n",
       "         [141.      , 140.      , 146.      ]],\n",
       "\n",
       "        [[132.      , 135.      , 144.      ],\n",
       "         [132.      , 135.      , 144.      ],\n",
       "         [132.      , 135.      , 144.      ],\n",
       "         ...,\n",
       "         [142.      , 141.      , 147.      ],\n",
       "         [139.      , 138.      , 144.      ],\n",
       "         [137.      , 136.      , 142.      ]],\n",
       "\n",
       "        ...,\n",
       "\n",
       "        [[141.      , 141.      , 141.      ],\n",
       "         [145.      , 145.      , 145.      ],\n",
       "         [142.      , 142.      , 142.      ],\n",
       "         ...,\n",
       "         [ 95.      ,  95.      ,  97.      ],\n",
       "         [ 94.      ,  94.      ,  96.      ],\n",
       "         [ 93.      ,  93.      ,  95.      ]],\n",
       "\n",
       "        [[139.      , 139.      , 139.      ],\n",
       "         [139.      , 139.      , 139.      ],\n",
       "         [140.      , 140.      , 140.      ],\n",
       "         ...,\n",
       "         [ 91.      ,  91.      ,  93.      ],\n",
       "         [ 89.      ,  89.      ,  91.      ],\n",
       "         [ 93.      ,  93.      ,  95.      ]],\n",
       "\n",
       "        [[131.      , 131.      , 131.      ],\n",
       "         [126.      , 126.      , 126.      ],\n",
       "         [131.      , 131.      , 131.      ],\n",
       "         ...,\n",
       "         [ 88.      ,  88.      ,  90.      ],\n",
       "         [ 87.      ,  87.      ,  89.      ],\n",
       "         [ 94.      ,  94.      ,  96.      ]]],\n",
       "\n",
       "\n",
       "       [[[ 39.91211 ,  44.91211 ,  47.91211 ],\n",
       "         [ 36.552734,  41.552734,  44.552734],\n",
       "         [ 38.69336 ,  43.69336 ,  46.69336 ],\n",
       "         ...,\n",
       "         [ 35.564453,  44.564453,  59.564453],\n",
       "         [ 37.96875 ,  46.96875 ,  61.96875 ],\n",
       "         [ 37.01172 ,  49.01172 ,  63.01172 ]],\n",
       "\n",
       "        [[ 37.3125  ,  42.3125  ,  45.3125  ],\n",
       "         [ 38.71875 ,  43.71875 ,  46.71875 ],\n",
       "         [ 41.78711 ,  46.78711 ,  49.78711 ],\n",
       "         ...,\n",
       "         [ 37.03711 ,  46.03711 ,  61.03711 ],\n",
       "         [ 36.978516,  45.978516,  60.978516],\n",
       "         [ 38.20508 ,  50.20508 ,  64.20508 ]],\n",
       "\n",
       "        [[ 41.685547,  46.685547,  49.685547],\n",
       "         [ 40.25    ,  45.25    ,  48.25    ],\n",
       "         [ 40.896484,  45.896484,  48.896484],\n",
       "         ...,\n",
       "         [ 38.6875  ,  47.6875  ,  62.6875  ],\n",
       "         [ 38.15039 ,  47.15039 ,  62.15039 ],\n",
       "         [ 36.      ,  45.      ,  60.      ]],\n",
       "\n",
       "        ...,\n",
       "\n",
       "        [[ 29.78125 ,  27.78125 ,  30.78125 ],\n",
       "         [ 27.58789 ,  25.58789 ,  28.58789 ],\n",
       "         [ 31.71875 ,  29.71875 ,  32.71875 ],\n",
       "         ...,\n",
       "         [ 24.6875  ,  24.6875  ,  26.6875  ],\n",
       "         [ 23.      ,  23.      ,  25.      ],\n",
       "         [ 24.4375  ,  24.4375  ,  26.4375  ]],\n",
       "\n",
       "        [[ 26.21875 ,  24.21875 ,  27.21875 ],\n",
       "         [ 29.      ,  27.      ,  30.      ],\n",
       "         [ 28.90625 ,  26.90625 ,  29.90625 ],\n",
       "         ...,\n",
       "         [ 24.15039 ,  24.15039 ,  26.15039 ],\n",
       "         [ 22.978516,  22.978516,  24.978516],\n",
       "         [ 22.5625  ,  21.5625  ,  26.5625  ]],\n",
       "\n",
       "        [[ 27.3125  ,  25.3125  ,  28.3125  ],\n",
       "         [ 28.964844,  26.964844,  29.964844],\n",
       "         [ 28.      ,  26.      ,  29.      ],\n",
       "         ...,\n",
       "         [ 24.      ,  24.      ,  26.      ],\n",
       "         [ 20.892578,  19.892578,  24.892578],\n",
       "         [ 21.90625 ,  20.90625 ,  25.90625 ]]],\n",
       "\n",
       "\n",
       "       [[[136.      , 143.      , 135.      ],\n",
       "         [135.      , 142.      , 134.      ],\n",
       "         [132.      , 139.      , 131.      ],\n",
       "         ...,\n",
       "         [123.      , 128.      , 121.      ],\n",
       "         [123.      , 128.      , 121.      ],\n",
       "         [123.      , 128.      , 121.      ]],\n",
       "\n",
       "        [[132.      , 139.      , 131.      ],\n",
       "         [131.      , 138.      , 130.      ],\n",
       "         [129.      , 136.      , 128.      ],\n",
       "         ...,\n",
       "         [122.      , 127.      , 120.      ],\n",
       "         [121.      , 126.      , 119.      ],\n",
       "         [121.      , 126.      , 119.      ]],\n",
       "\n",
       "        [[130.      , 137.      , 129.      ],\n",
       "         [129.      , 136.      , 128.      ],\n",
       "         [126.      , 133.      , 125.      ],\n",
       "         ...,\n",
       "         [120.      , 125.      , 118.      ],\n",
       "         [119.      , 124.      , 117.      ],\n",
       "         [119.      , 124.      , 117.      ]],\n",
       "\n",
       "        ...,\n",
       "\n",
       "        [[136.      , 141.      , 135.      ],\n",
       "         [136.      , 141.      , 135.      ],\n",
       "         [137.      , 142.      , 136.      ],\n",
       "         ...,\n",
       "         [125.      , 129.      , 128.      ],\n",
       "         [122.      , 126.      , 125.      ],\n",
       "         [121.      , 125.      , 124.      ]],\n",
       "\n",
       "        [[138.      , 143.      , 137.      ],\n",
       "         [140.      , 145.      , 139.      ],\n",
       "         [143.      , 148.      , 142.      ],\n",
       "         ...,\n",
       "         [125.      , 129.      , 128.      ],\n",
       "         [124.      , 128.      , 127.      ],\n",
       "         [125.      , 129.      , 128.      ]],\n",
       "\n",
       "        [[138.      , 143.      , 137.      ],\n",
       "         [142.      , 147.      , 141.      ],\n",
       "         [146.      , 151.      , 145.      ],\n",
       "         ...,\n",
       "         [125.      , 129.      , 128.      ],\n",
       "         [127.      , 131.      , 130.      ],\n",
       "         [130.      , 134.      , 133.      ]]]], dtype=float32)"
      ]
     },
     "execution_count": 11,
     "metadata": {},
     "output_type": "execute_result"
    }
   ],
   "source": [
    "# This represents the images\n",
    "batch[0]"
   ]
  },
  {
   "cell_type": "code",
   "execution_count": 12,
   "metadata": {
    "colab": {
     "base_uri": "https://localhost:8080/"
    },
    "collapsed": true,
    "id": "PFCBttJmdOX6",
    "outputId": "16906051-704f-4da8-b6dc-cec2f5f90d1b"
   },
   "outputs": [
    {
     "data": {
      "text/plain": [
       "array([35, 18, 44, 55, 55, 55, 55, 55, 55, 32, 43, 14, 51, 33, 21,  6, 23,\n",
       "       25, 42, 21,  5, 49, 19, 52, 48, 35,  3, 52, 32, 46,  0, 55])"
      ]
     },
     "execution_count": 12,
     "metadata": {},
     "output_type": "execute_result"
    }
   ],
   "source": [
    "# This represents label\n",
    "batch[1]"
   ]
  },
  {
   "cell_type": "markdown",
   "metadata": {
    "id": "z6SYr79zFeGA"
   },
   "source": [
    "# Scale the data"
   ]
  },
  {
   "cell_type": "code",
   "execution_count": 13,
   "metadata": {},
   "outputs": [
    {
     "data": {
      "text/plain": [
       "(32, 256, 256, 3)"
      ]
     },
     "execution_count": 13,
     "metadata": {},
     "output_type": "execute_result"
    }
   ],
   "source": [
    "batch[0].shape"
   ]
  },
  {
   "cell_type": "code",
   "execution_count": 10,
   "metadata": {
    "id": "8s6vvmN2e6yU"
   },
   "outputs": [],
   "source": [
    "# Transforming data in range 0 to 1 to speed up computation\n",
    "\n",
    "data = data.map(lambda x,y: (x/255, y))"
   ]
  },
  {
   "cell_type": "code",
   "execution_count": 11,
   "metadata": {},
   "outputs": [],
   "source": [
    "scaled_iterator = data.as_numpy_iterator()"
   ]
  },
  {
   "cell_type": "code",
   "execution_count": 12,
   "metadata": {
    "id": "XJRF-z6MFlhW"
   },
   "outputs": [],
   "source": [
    "batch = scaled_iterator.next()"
   ]
  },
  {
   "cell_type": "markdown",
   "metadata": {},
   "source": [
    "# Split the Data"
   ]
  },
  {
   "cell_type": "code",
   "execution_count": 13,
   "metadata": {},
   "outputs": [],
   "source": [
    "train_size = int(len(data)*.85)\n",
    "val_size = int(len(data)*.10)\n",
    "test_size = int(len(data)*.05)+2"
   ]
  },
  {
   "cell_type": "code",
   "execution_count": 18,
   "metadata": {},
   "outputs": [
    {
     "data": {
      "text/plain": [
       "1655"
      ]
     },
     "execution_count": 18,
     "metadata": {},
     "output_type": "execute_result"
    }
   ],
   "source": [
    "len(data)"
   ]
  },
  {
   "cell_type": "code",
   "execution_count": 19,
   "metadata": {},
   "outputs": [
    {
     "data": {
      "text/plain": [
       "1406"
      ]
     },
     "execution_count": 19,
     "metadata": {},
     "output_type": "execute_result"
    }
   ],
   "source": [
    "train_size"
   ]
  },
  {
   "cell_type": "code",
   "execution_count": 20,
   "metadata": {},
   "outputs": [
    {
     "data": {
      "text/plain": [
       "165"
      ]
     },
     "execution_count": 20,
     "metadata": {},
     "output_type": "execute_result"
    }
   ],
   "source": [
    "val_size"
   ]
  },
  {
   "cell_type": "code",
   "execution_count": 21,
   "metadata": {},
   "outputs": [
    {
     "data": {
      "text/plain": [
       "84"
      ]
     },
     "execution_count": 21,
     "metadata": {},
     "output_type": "execute_result"
    }
   ],
   "source": [
    "test_size"
   ]
  },
  {
   "cell_type": "code",
   "execution_count": 14,
   "metadata": {},
   "outputs": [],
   "source": [
    "train = data.take(train_size)\n",
    "val = data.skip(train_size).take(val_size)\n",
    "test = (data.skip(train_size+val_size).take(test_size))"
   ]
  },
  {
   "cell_type": "markdown",
   "metadata": {},
   "source": [
    "# Building Deep CNN Model"
   ]
  },
  {
   "cell_type": "code",
   "execution_count": 15,
   "metadata": {},
   "outputs": [],
   "source": [
    "from tensorflow.keras.models import Sequential\n",
    "from tensorflow.keras.layers import Conv2D, MaxPooling2D, Dense, Flatten, Dropout, Softmax"
   ]
  },
  {
   "cell_type": "code",
   "execution_count": 16,
   "metadata": {},
   "outputs": [
    {
     "data": {
      "text/plain": [
       "1.0"
      ]
     },
     "execution_count": 16,
     "metadata": {},
     "output_type": "execute_result"
    }
   ],
   "source": [
    "batch[0].max()"
   ]
  },
  {
   "cell_type": "code",
   "execution_count": 17,
   "metadata": {},
   "outputs": [],
   "source": [
    "model = Sequential()"
   ]
  },
  {
   "cell_type": "code",
   "execution_count": 18,
   "metadata": {},
   "outputs": [],
   "source": [
    "model.add(Conv2D(32, (3,3), 1, activation='relu', input_shape=(256,256,3)))\n",
    "model.add(MaxPooling2D(pool_size=(2,2)))\n",
    "model.add(Conv2D(64, (3,3), 1, activation='relu'))\n",
    "model.add(MaxPooling2D(pool_size=(2,2)))\n",
    "model.add(Dropout(0.5))\n",
    "model.add(Conv2D(128, (3,3), 1, activation='relu'))\n",
    "model.add(MaxPooling2D(pool_size=(2,2)))\n",
    "model.add(Dropout(0.5))\n",
    "model.add(Conv2D(256, (3,3), 1, activation='relu'))\n",
    "model.add(MaxPooling2D(pool_size=(2,2)))\n",
    "model.add(Dropout(0.5))\n",
    "model.add(Conv2D(512, (3,3), 1, activation='relu'))\n",
    "model.add(MaxPooling2D(pool_size=(2,2)))\n",
    "model.add(Flatten())\n",
    "model.add(Dense(512, activation='relu'))\n",
    "model.add(Dropout(0.25))\n",
    "model.add(Dense(256, activation='relu'))\n",
    "model.add(Dropout(0.25))\n",
    "model.add(Dense(56, activation='softmax'))"
   ]
  },
  {
   "cell_type": "code",
   "execution_count": 19,
   "metadata": {},
   "outputs": [],
   "source": [
    "from keras.optimizers import Adam\n",
    "# Adam is used instead of the classical stochastic gradient descent procedure to update network weights iterative based in training data.\n",
    "model.compile(optimizer = Adam(learning_rate=0.0001), loss='sparse_categorical_crossentropy', metrics=['accuracy'])"
   ]
  },
  {
   "cell_type": "code",
   "execution_count": 20,
   "metadata": {},
   "outputs": [
    {
     "name": "stdout",
     "output_type": "stream",
     "text": [
      "Model: \"sequential\"\n",
      "_________________________________________________________________\n",
      " Layer (type)                Output Shape              Param #   \n",
      "=================================================================\n",
      " conv2d (Conv2D)             (None, 254, 254, 32)      896       \n",
      "                                                                 \n",
      " max_pooling2d (MaxPooling2D  (None, 127, 127, 32)     0         \n",
      " )                                                               \n",
      "                                                                 \n",
      " conv2d_1 (Conv2D)           (None, 125, 125, 64)      18496     \n",
      "                                                                 \n",
      " max_pooling2d_1 (MaxPooling  (None, 62, 62, 64)       0         \n",
      " 2D)                                                             \n",
      "                                                                 \n",
      " dropout (Dropout)           (None, 62, 62, 64)        0         \n",
      "                                                                 \n",
      " conv2d_2 (Conv2D)           (None, 60, 60, 128)       73856     \n",
      "                                                                 \n",
      " max_pooling2d_2 (MaxPooling  (None, 30, 30, 128)      0         \n",
      " 2D)                                                             \n",
      "                                                                 \n",
      " dropout_1 (Dropout)         (None, 30, 30, 128)       0         \n",
      "                                                                 \n",
      " conv2d_3 (Conv2D)           (None, 28, 28, 256)       295168    \n",
      "                                                                 \n",
      " max_pooling2d_3 (MaxPooling  (None, 14, 14, 256)      0         \n",
      " 2D)                                                             \n",
      "                                                                 \n",
      " dropout_2 (Dropout)         (None, 14, 14, 256)       0         \n",
      "                                                                 \n",
      " conv2d_4 (Conv2D)           (None, 12, 12, 512)       1180160   \n",
      "                                                                 \n",
      " max_pooling2d_4 (MaxPooling  (None, 6, 6, 512)        0         \n",
      " 2D)                                                             \n",
      "                                                                 \n",
      " flatten (Flatten)           (None, 18432)             0         \n",
      "                                                                 \n",
      " dense (Dense)               (None, 512)               9437696   \n",
      "                                                                 \n",
      " dropout_3 (Dropout)         (None, 512)               0         \n",
      "                                                                 \n",
      " dense_1 (Dense)             (None, 256)               131328    \n",
      "                                                                 \n",
      " dropout_4 (Dropout)         (None, 256)               0         \n",
      "                                                                 \n",
      " dense_2 (Dense)             (None, 56)                14392     \n",
      "                                                                 \n",
      "=================================================================\n",
      "Total params: 11,151,992\n",
      "Trainable params: 11,151,992\n",
      "Non-trainable params: 0\n",
      "_________________________________________________________________\n"
     ]
    }
   ],
   "source": [
    "model.summary()"
   ]
  },
  {
   "cell_type": "markdown",
   "metadata": {},
   "source": [
    "# Training"
   ]
  },
  {
   "cell_type": "code",
   "execution_count": 21,
   "metadata": {},
   "outputs": [],
   "source": [
    "logdir='logs'"
   ]
  },
  {
   "cell_type": "code",
   "execution_count": 22,
   "metadata": {},
   "outputs": [],
   "source": [
    "tensorboard_callback = tf.keras.callbacks.TensorBoard(log_dir=logdir)"
   ]
  },
  {
   "cell_type": "code",
   "execution_count": 23,
   "metadata": {},
   "outputs": [],
   "source": [
    "callback = tf.keras.callbacks.EarlyStopping(monitor='loss', patience=3)"
   ]
  },
  {
   "cell_type": "code",
   "execution_count": 24,
   "metadata": {},
   "outputs": [
    {
     "name": "stdout",
     "output_type": "stream",
     "text": [
      "Epoch 1/10\n",
      "1406/1406 [==============================] - 763s 539ms/step - loss: 2.4867 - accuracy: 0.3257 - val_loss: 1.6045 - val_accuracy: 0.5953\n",
      "Epoch 2/10\n",
      "1406/1406 [==============================] - 829s 589ms/step - loss: 1.2787 - accuracy: 0.6114 - val_loss: 0.9058 - val_accuracy: 0.7570\n",
      "Epoch 3/10\n",
      "1406/1406 [==============================] - 867s 616ms/step - loss: 0.8591 - accuracy: 0.7299 - val_loss: 0.6117 - val_accuracy: 0.8248\n",
      "Epoch 4/10\n",
      "1406/1406 [==============================] - 862s 612ms/step - loss: 0.6542 - accuracy: 0.7942 - val_loss: 0.5222 - val_accuracy: 0.8500\n",
      "Epoch 5/10\n",
      "1406/1406 [==============================] - 866s 616ms/step - loss: 0.5161 - accuracy: 0.8353 - val_loss: 0.4041 - val_accuracy: 0.8801\n",
      "Epoch 6/10\n",
      "1406/1406 [==============================] - 885s 628ms/step - loss: 0.4311 - accuracy: 0.8624 - val_loss: 0.3678 - val_accuracy: 0.8903\n",
      "Epoch 7/10\n",
      "1406/1406 [==============================] - 866s 615ms/step - loss: 0.3584 - accuracy: 0.8845 - val_loss: 0.3189 - val_accuracy: 0.8998\n",
      "Epoch 8/10\n",
      "1406/1406 [==============================] - 863s 613ms/step - loss: 0.2949 - accuracy: 0.9032 - val_loss: 0.2947 - val_accuracy: 0.9053\n",
      "Epoch 9/10\n",
      "1406/1406 [==============================] - 858s 610ms/step - loss: 0.2609 - accuracy: 0.9131 - val_loss: 0.2838 - val_accuracy: 0.9064\n",
      "Epoch 10/10\n",
      "1406/1406 [==============================] - 860s 611ms/step - loss: 0.2239 - accuracy: 0.9255 - val_loss: 0.2800 - val_accuracy: 0.9121\n"
     ]
    }
   ],
   "source": [
    "hist = model.fit(train, epochs=10, validation_data=val, callbacks=[callback])"
   ]
  },
  {
   "cell_type": "markdown",
   "metadata": {},
   "source": [
    "# Plot Performance"
   ]
  },
  {
   "cell_type": "code",
   "execution_count": 25,
   "metadata": {},
   "outputs": [
    {
     "data": {
      "image/png": "[encoded data removed]",
      "text/plain": [
       "<Figure size 640x480 with 1 Axes>"
      ]
     },
     "metadata": {},
     "output_type": "display_data"
    }
   ],
   "source": [
    "fig = plt.figure()\n",
    "plt.plot(hist.history['loss'], color='teal', label='loss')\n",
    "plt.plot(hist.history['val_loss'], color='orange', label='val_loss')\n",
    "fig.suptitle('Loss', fontsize=20)\n",
    "plt.legend(loc=\"upper left\")\n",
    "plt.show()"
   ]
  },
  {
   "cell_type": "code",
   "execution_count": 26,
   "metadata": {},
   "outputs": [
    {
     "data": {
      "image/png": "[encoded data removed]",
      "text/plain": [
       "<Figure size 640x480 with 1 Axes>"
      ]
     },
     "metadata": {},
     "output_type": "display_data"
    }
   ],
   "source": [
    "fig = plt.figure()\n",
    "plt.plot(hist.history['accuracy'], color='teal', label='accuracy')\n",
    "plt.plot(hist.history['val_accuracy'], color='orange', label='val_accuracy')\n",
    "fig.suptitle('Accuracy', fontsize=20)\n",
    "plt.legend(loc=\"upper left\")\n",
    "plt.show()"
   ]
  },
  {
   "cell_type": "code",
   "execution_count": null,
   "metadata": {},
   "outputs": [],
   "source": [
    "# Try for Efficient B7 architecture"
   ]
  }
 ],
 "metadata": {
  "accelerator": "GPU",
  "colab": {
   "provenance": []
  },
  "gpuClass": "standard",
  "kernelspec": {
   "display_name": "Python 3 (ipykernel)",
   "language": "python",
   "name": "python3"
  },
  "language_info": {
   "codemirror_mode": {
    "name": "ipython",
    "version": 3
   },
   "file_extension": ".py",
   "mimetype": "text/x-python",
   "name": "python",
   "nbconvert_exporter": "python",
   "pygments_lexer": "ipython3",
   "version": "3.9.13"
  }
 },
 "nbformat": 4,
 "nbformat_minor": 1
}
